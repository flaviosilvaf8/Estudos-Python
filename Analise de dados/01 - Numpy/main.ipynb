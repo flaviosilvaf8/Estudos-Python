{
 "cells": [
  {
   "cell_type": "code",
   "execution_count": 1,
   "metadata": {},
   "outputs": [
    {
     "name": "stdout",
     "output_type": "stream",
     "text": [
      "[ 5 10]\n"
     ]
    }
   ],
   "source": [
    "import numpy as np\n",
    "\n",
    "idades = np.array([10,15,20,18,20])\n",
    "\n",
    "notas=np.array([9,8,5,7,10])\n",
    "\n",
    "print(notas[idades==20]) #Imprimira 5 e 10 para idades = a 20"
   ]
  },
  {
   "cell_type": "code",
   "execution_count": 2,
   "id": "4d66d72a",
   "metadata": {},
   "outputs": [
    {
     "data": {
      "text/plain": [
       "16.6"
      ]
     },
     "execution_count": 2,
     "metadata": {},
     "output_type": "execute_result"
    }
   ],
   "source": [
    "np.mean(idades) # média de idades"
   ]
  },
  {
   "cell_type": "code",
   "execution_count": 3,
   "id": "3e96ddcb",
   "metadata": {},
   "outputs": [
    {
     "data": {
      "text/plain": [
       "1000"
      ]
     },
     "execution_count": 3,
     "metadata": {},
     "output_type": "execute_result"
    }
   ],
   "source": [
    "#                      func 1              func2            func3\n",
    "salario = np.array([[1000, 1200, 1300],[800, 900, 1000],[2000,2100,2200]]) # Salario de 3 funcionarios em 3 anos seguidos\n",
    "\n",
    "salario[1,2] # Salario do funcionario 2 no terceiro ano de trabalho"
   ]
  },
  {
   "cell_type": "code",
   "execution_count": 4,
   "id": "1dbfd4a3",
   "metadata": {},
   "outputs": [
    {
     "name": "stdout",
     "output_type": "stream",
     "text": [
      "[[0. 0. 0.]\n",
      " [0. 0. 0.]\n",
      " [0. 0. 0.]\n",
      " [0. 0. 0.]]\n"
     ]
    }
   ],
   "source": [
    "matriz = np.zeros([4,3]) # Fa´ra uma matriz de 4 linhas e 3 colunas de zeros\n",
    "\n",
    "print(matriz)"
   ]
  }
 ],
 "metadata": {
  "kernelspec": {
   "display_name": "Python 3",
   "language": "python",
   "name": "python3"
  },
  "language_info": {
   "codemirror_mode": {
    "name": "ipython",
    "version": 3
   },
   "file_extension": ".py",
   "mimetype": "text/x-python",
   "name": "python",
   "nbconvert_exporter": "python",
   "pygments_lexer": "ipython3",
   "version": "3.10.5"
  }
 },
 "nbformat": 4,
 "nbformat_minor": 5
}
