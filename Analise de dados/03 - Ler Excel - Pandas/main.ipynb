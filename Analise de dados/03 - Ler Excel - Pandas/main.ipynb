{
 "cells": [
  {
   "cell_type": "code",
   "execution_count": 1,
   "metadata": {},
   "outputs": [
    {
     "name": "stdout",
     "output_type": "stream",
     "text": [
      "     nome  idade\n",
      "0  rafael     15\n",
      "1    joao     10\n",
      "2   maria     18\n",
      "3  mateus     12\n",
      "4   pedro     11\n",
      "5     ana     19\n",
      "      nome  semestre  nota\n",
      "0   rafael         1     7\n",
      "1     joao         1     4\n",
      "2    maria         1     9\n",
      "3   mateus         1     8\n",
      "4    pedro         1     7\n",
      "5      ana         1    10\n",
      "6   rafael         2    10\n",
      "7     joao         2     8\n",
      "8    maria         2     6\n",
      "9   mateus         2     9\n",
      "10   pedro         2     8\n",
      "11     ana         2     6\n"
     ]
    }
   ],
   "source": [
    "import pandas as pd\n",
    "\n",
    "# Variavel      Ler doc excel  nome do doc    nome da aba no excel\n",
    "dados_pessoas = pd.read_excel('dados.xlsx', sheet_name='pessoas')\n",
    "dados_notas = pd.read_excel('dados.xlsx', sheet_name='notas')\n",
    "\n",
    "print(dados_pessoas)\n",
    "print(dados_notas)"
   ]
  },
  {
   "cell_type": "code",
   "execution_count": 2,
   "id": "8fb91d84",
   "metadata": {},
   "outputs": [
    {
     "name": "stdout",
     "output_type": "stream",
     "text": [
      "        semestre  nota  idade\n",
      "nome                         \n",
      "ana            1    10     19\n",
      "ana            2     6     19\n",
      "joao           1     4     10\n",
      "joao           2     8     10\n",
      "maria          1     9     18\n",
      "maria          2     6     18\n",
      "mateus         1     8     12\n",
      "mateus         2     9     12\n",
      "pedro          1     7     11\n",
      "pedro          2     8     11\n",
      "rafael         1     7     15\n",
      "rafael         2    10     15\n"
     ]
    }
   ],
   "source": [
    "dados_todos = dados_notas.set_index('nome').join(dados_pessoas.set_index('nome'))\n",
    "\n",
    "print(dados_todos) # A coluna nome é a chave principal para conectar as duas tabelas, sendo assim agora temos uma tabela com nome, semestre, nota e idade."
   ]
  },
  {
   "cell_type": "code",
   "execution_count": 3,
   "id": "0111b553",
   "metadata": {},
   "outputs": [
    {
     "name": "stdout",
     "output_type": "stream",
     "text": [
      "nome\n",
      "ana       8.0\n",
      "joao      6.0\n",
      "maria     7.5\n",
      "mateus    8.5\n",
      "pedro     7.5\n",
      "rafael    8.5\n",
      "Name: nota, dtype: float64\n"
     ]
    }
   ],
   "source": [
    "medias = dados_todos.groupby('nome').nota.mean()\n",
    "\n",
    "print(medias) # Mostrara a média de cada aluno\n",
    "\n",
    "medias.to_excel('saida.xlsx') # Criará um arquivo excel com as medias de notas dos alunos"
   ]
  }
 ],
 "metadata": {
  "kernelspec": {
   "display_name": "Python 3",
   "language": "python",
   "name": "python3"
  },
  "language_info": {
   "codemirror_mode": {
    "name": "ipython",
    "version": 3
   },
   "file_extension": ".py",
   "mimetype": "text/x-python",
   "name": "python",
   "nbconvert_exporter": "python",
   "pygments_lexer": "ipython3",
   "version": "3.10.5"
  }
 },
 "nbformat": 4,
 "nbformat_minor": 5
}
